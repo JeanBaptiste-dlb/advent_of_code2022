{
 "cells": [
  {
   "cell_type": "code",
   "execution_count": 51,
   "metadata": {},
   "outputs": [
    {
     "name": "stdout",
     "output_type": "stream",
     "text": [
      "10624\n",
      "14060\n"
     ]
    }
   ],
   "source": [
    "mapping={\"X\": 0, \"Y\": 1, \"Z\": 2}\n",
    "mapping2={\"A\": 0, \"B\": 1, \"C\": 2}\n",
    "with open(\"./inputs/input2.txt\") as input:\n",
    "    input = [[mapping2[x[0]], mapping[x[2]]] for x in input.read().splitlines()]\n",
    "\n",
    "score=0\n",
    "\n",
    "def outcome(x, y):\n",
    "    if x==y:\n",
    "        return 3\n",
    "    elif x == (y - 1) % 3:\n",
    "        return 6\n",
    "    else:\n",
    "        return 0\n",
    "\n",
    "for i in input:\n",
    "    score += (i[1] + 1 + outcome(i[0], i[1]))\n",
    "\n",
    "print(score)\n",
    "score2=0\n",
    "\n",
    "\n",
    "for i in input: \n",
    "    if i[1] == 0:\n",
    "        j = (i[0] - 1) % 3 \n",
    "    if i[1] == 1:\n",
    "        j = i[0]\n",
    "    if i[1] == 2:\n",
    "        j = (i[0] + 1) % 3\n",
    "    assert j <= 2\n",
    "    assert 3 * i[1] <= 6\n",
    "    score2 += (j + 1 + 3 * i[1])\n",
    "\n",
    "\n",
    "\n",
    "print(score2)"
   ]
  }
 ],
 "metadata": {
  "kernelspec": {
   "display_name": "Python 3.9.6 64-bit",
   "language": "python",
   "name": "python3"
  },
  "language_info": {
   "codemirror_mode": {
    "name": "ipython",
    "version": 3
   },
   "file_extension": ".py",
   "mimetype": "text/x-python",
   "name": "python",
   "nbconvert_exporter": "python",
   "pygments_lexer": "ipython3",
   "version": "3.9.6"
  },
  "orig_nbformat": 4,
  "vscode": {
   "interpreter": {
    "hash": "31f2aee4e71d21fbe5cf8b01ff0e069b9275f58929596ceb00d14d90e3e16cd6"
   }
  }
 },
 "nbformat": 4,
 "nbformat_minor": 2
}
