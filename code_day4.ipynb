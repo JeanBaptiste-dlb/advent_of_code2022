{
 "cells": [
  {
   "cell_type": "code",
   "execution_count": 1,
   "metadata": {},
   "outputs": [],
   "source": [
    "with open(\"./inputs/input4.txt\") as input:\n",
    "    input = input.read().splitlines()"
   ]
  },
  {
   "cell_type": "code",
   "execution_count": 23,
   "metadata": {},
   "outputs": [
    {
     "data": {
      "text/plain": [
       "177"
      ]
     },
     "execution_count": 23,
     "metadata": {},
     "output_type": "execute_result"
    }
   ],
   "source": [
    "input_transformed = [[i[0].split(\"-\"), i[1].split(\"-\")] for i in [i.split(\",\") for i in input]]\n",
    "\n",
    "score=0\n",
    "for i in input_transformed:\n",
    "    left = i[0]\n",
    "    right = i[1]\n",
    "    left = [int(i) for i in left]\n",
    "    right = [int(i) for i in right]\n",
    "    if left[0]<=right[0] and right[1]<=left[1] or left[0]>=right[0] and right[1]>=left[1]:\n",
    "        score+=1\n",
    "score"
   ]
  },
  {
   "cell_type": "code",
   "execution_count": 20,
   "metadata": {},
   "outputs": [
    {
     "data": {
      "text/plain": [
       "823"
      ]
     },
     "execution_count": 20,
     "metadata": {},
     "output_type": "execute_result"
    }
   ],
   "source": [
    "score=0\n",
    "for i in input_transformed:\n",
    "    left = i[0]\n",
    "    right = i[1]\n",
    "    left = [int(i) for i in left]\n",
    "    right = [int(i) for i in right]\n",
    "    if set(range(left[0], left[1]+1)).intersection(set(range(right[0],right[1]+1))):\n",
    "        score+=1\n",
    "\n",
    "score"
   ]
  },
  {
   "cell_type": "code",
   "execution_count": null,
   "metadata": {},
   "outputs": [],
   "source": []
  }
 ],
 "metadata": {
  "kernelspec": {
   "display_name": "Python 3.8.10 64-bit ('3.8.10')",
   "language": "python",
   "name": "python3"
  },
  "language_info": {
   "codemirror_mode": {
    "name": "ipython",
    "version": 3
   },
   "file_extension": ".py",
   "mimetype": "text/x-python",
   "name": "python",
   "nbconvert_exporter": "python",
   "pygments_lexer": "ipython3",
   "version": "3.8.10"
  },
  "orig_nbformat": 4,
  "vscode": {
   "interpreter": {
    "hash": "fcecae90ca72c5c26b8a4f0acbfad0119ae3447945680eb623fd5b83e15b3193"
   }
  }
 },
 "nbformat": 4,
 "nbformat_minor": 2
}
