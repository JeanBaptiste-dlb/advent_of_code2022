{
 "cells": [
  {
   "cell_type": "code",
   "execution_count": 54,
   "metadata": {},
   "outputs": [],
   "source": [
    "with open(\"./inputs/input5.txt\") as input:\n",
    "    input = input.read().splitlines()\n",
    "input = [[elem for id_, elem in enumerate(i.split(\" \")) if id_ in [1,3,5]] for i in input]"
   ]
  },
  {
   "cell_type": "code",
   "execution_count": 55,
   "metadata": {},
   "outputs": [],
   "source": [
    "\"\"\"\n",
    "Initial state\n",
    "[Q]         [N]             [N]    \n",
    "[H]     [B] [D]             [S] [M]\n",
    "[C]     [Q] [J]         [V] [Q] [D]\n",
    "[T]     [S] [Z] [F]     [J] [J] [W]\n",
    "[N] [G] [T] [S] [V]     [B] [C] [C]\n",
    "[S] [B] [R] [W] [D] [J] [Q] [R] [Q]\n",
    "[V] [D] [W] [G] [P] [W] [N] [T] [S]\n",
    "[B] [W] [F] [L] [M] [F] [L] [G] [J]\n",
    " 1   2   3   4   5   6   7   8   9 \n",
    "\"\"\"\n",
    "\n",
    "stacks = [[], \n",
    "[\"B\", \"V\", \"S\", \"N\", \"T\", \"C\", \"H\", \"Q\"], \n",
    "[\"W\", \"D\", \"B\", \"G\"], \n",
    "[\"F\", \"W\", \"R\", \"T\", \"S\", \"Q\", \"B\"],\n",
    "[\"L\", \"G\", \"W\", \"S\", \"Z\", \"J\", \"D\", \"N\"],\n",
    "[\"M\", \"P\", \"D\", \"V\", \"F\"],\n",
    "[\"F\", \"W\", \"J\"],\n",
    "[\"L\", \"N\", \"Q\", \"B\", \"J\", \"V\"],\n",
    "[\"G\",\"T\", \"R\", \"C\", \"J\", \"Q\", \"S\", \"N\"],\n",
    "[\"J\", \"S\", \"Q\", \"C\", \"W\", \"D\", \"M\"]]"
   ]
  },
  {
   "cell_type": "code",
   "execution_count": 56,
   "metadata": {},
   "outputs": [],
   "source": [
    "def move(from_, to, stacks, n):\n",
    "    for j in range(n):\n",
    "        if len(stacks[from_])==0:\n",
    "            return None\n",
    "        elem = stacks[from_].pop()\n",
    "        stacks[to].append(elem)\n",
    "\n",
    "for i in input:\n",
    "    move(from_=int(i[1]), to=int(i[2]), stacks=stacks, n=int(i[0]))"
   ]
  },
  {
   "cell_type": "code",
   "execution_count": 57,
   "metadata": {},
   "outputs": [
    {
     "data": {
      "text/plain": [
       "[[],\n",
       " ['C', 'G', 'F'],\n",
       " ['Q', 'J'],\n",
       " ['W', 'F', 'V', 'D', 'D', 'W', 'W', 'S'],\n",
       " ['R', 'S', 'B', 'S', 'J', 'N', 'R'],\n",
       " ['Q'],\n",
       " ['S', 'Q', 'B', 'D', 'C'],\n",
       " ['J', 'L', 'Q', 'S', 'V', 'J', 'W', 'D', 'J', 'G', 'B', 'C', 'F'],\n",
       " ['T'],\n",
       " ['M',\n",
       "  'L',\n",
       "  'G',\n",
       "  'T',\n",
       "  'N',\n",
       "  'Q',\n",
       "  'P',\n",
       "  'Z',\n",
       "  'B',\n",
       "  'T',\n",
       "  'W',\n",
       "  'M',\n",
       "  'V',\n",
       "  'H',\n",
       "  'N',\n",
       "  'N']]"
      ]
     },
     "execution_count": 57,
     "metadata": {},
     "output_type": "execute_result"
    }
   ],
   "source": [
    "stacks"
   ]
  },
  {
   "cell_type": "code",
   "execution_count": 32,
   "metadata": {},
   "outputs": [],
   "source": [
    "stacks = [[], \n",
    "[\"B\", \"V\", \"S\", \"N\", \"T\", \"C\", \"H\", \"Q\"], \n",
    "[\"W\", \"D\", \"B\", \"G\"], \n",
    "[\"F\", \"W\", \"R\", \"T\", \"S\", \"Q\", \"B\"],\n",
    "[\"L\", \"G\", \"W\", \"S\", \"Z\", \"J\", \"D\", \"N\"],\n",
    "[\"M\", \"P\", \"D\", \"V\", \"F\"],\n",
    "[\"F\", \"W\", \"J\"],\n",
    "[\"L\", \"N\", \"Q\", \"B\", \"J\", \"V\"],\n",
    "[\"G\",\"T\", \"R\", \"C\", \"J\", \"Q\", \"S\", \"N\"],\n",
    "[\"J\", \"S\", \"Q\", \"C\", \"W\", \"D\", \"M\"]]\n",
    "\n",
    "\n",
    "def move2(from_, to, stacks, n):\n",
    "    sub_stack=[]\n",
    "    for j in range(n):\n",
    "        if len(stacks[from_])==0:\n",
    "            stacks[to]+=sub_stack\n",
    "            return None\n",
    "        sub_stack.append(stacks[from_].pop())\n",
    "    stacks[to]+=sub_stack\n",
    "\n",
    "for i in input:\n",
    "    move2(from_=int(i[1]), to=int(i[2]), stacks=stacks, n=int(i[0]))"
   ]
  },
  {
   "cell_type": "code",
   "execution_count": 33,
   "metadata": {},
   "outputs": [
    {
     "data": {
      "text/plain": [
       "[[],\n",
       " [],\n",
       " [],\n",
       " ['C', 'W'],\n",
       " ['L'],\n",
       " ['L', 'W', 'J', 'N'],\n",
       " [],\n",
       " ['Q', 'Q', 'N', 'M', 'B', 'B', 'P'],\n",
       " ['V',\n",
       "  'W',\n",
       "  'F',\n",
       "  'G',\n",
       "  'J',\n",
       "  'R',\n",
       "  'V',\n",
       "  'B',\n",
       "  'Q',\n",
       "  'S',\n",
       "  'J',\n",
       "  'V',\n",
       "  'G',\n",
       "  'F',\n",
       "  'C',\n",
       "  'W',\n",
       "  'D',\n",
       "  'S',\n",
       "  'S',\n",
       "  'D',\n",
       "  'Z',\n",
       "  'C',\n",
       "  'J',\n",
       "  'G',\n",
       "  'W',\n",
       "  'Q',\n",
       "  'D',\n",
       "  'F',\n",
       "  'T',\n",
       "  'D',\n",
       "  'R',\n",
       "  'B',\n",
       "  'N',\n",
       "  'M',\n",
       "  'S',\n",
       "  'Q'],\n",
       " ['H', 'S', 'J', 'T', 'T', 'N']]"
      ]
     },
     "execution_count": 33,
     "metadata": {},
     "output_type": "execute_result"
    }
   ],
   "source": [
    "stacks"
   ]
  },
  {
   "cell_type": "code",
   "execution_count": null,
   "metadata": {},
   "outputs": [],
   "source": []
  }
 ],
 "metadata": {
  "kernelspec": {
   "display_name": "Python 3.8.10 64-bit ('3.8.10')",
   "language": "python",
   "name": "python3"
  },
  "language_info": {
   "codemirror_mode": {
    "name": "ipython",
    "version": 3
   },
   "file_extension": ".py",
   "mimetype": "text/x-python",
   "name": "python",
   "nbconvert_exporter": "python",
   "pygments_lexer": "ipython3",
   "version": "3.8.10"
  },
  "orig_nbformat": 4,
  "vscode": {
   "interpreter": {
    "hash": "fcecae90ca72c5c26b8a4f0acbfad0119ae3447945680eb623fd5b83e15b3193"
   }
  }
 },
 "nbformat": 4,
 "nbformat_minor": 2
}
